{
 "cells": [
  {
   "cell_type": "code",
   "execution_count": null,
   "metadata": {},
   "outputs": [],
   "source": [
    "import numpy as np\n",
    "import matplotlib.pyplot as plt\n",
    "\n",
    "from polyline import Polyline\n",
    "\n",
    "from curvegen import Curve2D\n",
    "from egoaxis import rot_axis_90deg_cc"
   ]
  },
  {
   "cell_type": "markdown",
   "metadata": {},
   "source": [
    "## Module"
   ]
  },
  {
   "cell_type": "code",
   "execution_count": null,
   "metadata": {
    "code_folding": []
   },
   "outputs": [],
   "source": [
    "# Note:\n",
    "# To make it match with the previous measurement, init with the last point\n",
    "# of the previous measurement and keep it fixed.\n",
    "# Use the largest principal component vector, project points, keep last point\n",
    "# fixed an rotate line around this point, so the first point matches the\n",
    "# reference point from the last measurement.\n",
    "\n",
    "def proj_points(pts, vec):\n",
    "    \"\"\"\n",
    "    Projects points with shape (len(vec), N) along direction of vec (1d-array).\n",
    "    \"\"\"\n",
    "    vec = np.asarray(vec)\n",
    "    pts = np.atleast_2d(pts)\n",
    "    \n",
    "    unit = vec / np.linalg.norm(vec)\n",
    "    proj_len = np.matmul(pts.T, vec)\n",
    "\n",
    "    return proj_len * vec.reshape(len(vec), 1), proj_len\n",
    "\n",
    "def poly_principal_curve(data, niter=\"auto\"):\n",
    "    \"\"\"\n",
    "    Computes a principal curve for the given data points (shape (2, n)).\n",
    "    Source\n",
    "    ------\n",
    "    Kegl: Learning and Design of Principal Curves\n",
    "        (https://www.lri.fr/~kegl/research/PDFs/KeKrLiZe00.pdf)\n",
    "    \"\"\"\n",
    "    data = np.atleast_2d(data)\n",
    "    if len(data.shape) != 2 or data.shape[0] != 2:\n",
    "        raise ValueError(\"'data' must have shape (2, nPoints).\")\n",
    "    npoints = data.shape[1]\n",
    "    \n",
    "    # Center data mean at  (0, 0)\n",
    "    mean = np.mean(data, axis=1).reshape(2, 1)\n",
    "    data -= mean\n",
    "    \n",
    "    # Following the algorithm in chapter 3 of the paper\n",
    "    \n",
    "    # Initialization: Use first principal value of data as projection line d and\n",
    "    # pick the line length L as the distance of min, max points projected on d\n",
    "    # Get direction and value of largest eigenvalue from cov(data)\n",
    "    cov = np.cov(data)\n",
    "    eigvals, eigvecs = np.linalg.eigh(cov)\n",
    "    eigvec_max = eigvecs[np.argmax(eigvals)]\n",
    "    # Project along largest eigenvector and determine line length by finding\n",
    "    # the outermost projected points along the projection line\n",
    "    proj_vec, proj_len = proj_points(data, eigvec_max)\n",
    "    idx = np.argsort(proj_len)\n",
    "    # Keep the original order intact for the projection\n",
    "    idx_min, idx_max = ((idx[0], idx[-1]) if\n",
    "                        idx[0] < idx[-1] else (idx[-1], idx[0]))\n",
    "    dmin, dmax = data[:, idx_min], data[:, idx_max]\n",
    "    pl = Polyline([dmin, dmax])\n",
    "    \n",
    "    # Data radius used for scaling in the penalty term\n",
    "    data_r2 = np.amax(np.linalg.norm(data, axis=0))**2\n",
    "    \n",
    "    def get_penalty(idx, pl):\n",
    "        \"\"\" Return penalty termfor given vertex in polyline pl \"\"\"\n",
    "        pi = lambda i: data_r2 * np.cos(pl.get_angle_at_vertex(i))\n",
    "        mu_plus = lambda i: data_r2 * np.cos(pl.get_angle_at_vertex(i))\n",
    "        mu_minus = lambda i: data_r2 * np.cos(pl.get_angle_at_vertex(i))\n",
    "                \n",
    "        if idx == 0:\n",
    "            return mu_plus(idx) + pi(idx + 1)\n",
    "        if idx == 1:\n",
    "            return mu_minus(idx) + pi(idx) + pi(idx + 1)\n",
    "        if idx == pl.nvertices - 1:\n",
    "            return pi(idx - 1) + pi(idx) + mu_plus(idx)\n",
    "        if idx == pl.nvertices:\n",
    "            return pi(idx - 1) + mu_minus(idx)\n",
    "        else:\n",
    "            return pi(idx - 1) + pi(idx) + pi(idx + 1)\n",
    "        \n",
    "    def converged(pl):\n",
    "        \"\"\" Returns True, if given polyline reaches convergence criteria \"\"\"\n",
    "    \n",
    "    # Iteration: Add vertex each iter until converged or max vertices reached\n",
    "    # Empirical from paper, at least 2\n",
    "    max_vertices = max(int(npoints**(1. / 3.)) + 1, 2)\n",
    "    for i in range(max_vertices):\n",
    "        # Vertex optimization:\n",
    "        # Optimize each existing vertex while fixing the others unti the\n",
    "        # polyline with k current vertices is locally closest to all points\n",
    "        step_converged = False\n",
    "        while not step_converged:\n",
    "            for j, vert in pl.vertices:\n",
    "                pass\n",
    "            step_converged = True\n",
    "    \n",
    "        if converged(pl):\n",
    "            break  # Break early if converged\n",
    "    \n",
    "    # Move back to actual mean\n",
    "    pl.translate(mean)\n",
    "    return pl"
   ]
  },
  {
   "cell_type": "markdown",
   "metadata": {},
   "source": [
    "## Testplots"
   ]
  },
  {
   "cell_type": "markdown",
   "metadata": {
    "heading_collapsed": true
   },
   "source": [
    "### Curve generator"
   ]
  },
  {
   "cell_type": "code",
   "execution_count": null,
   "metadata": {
    "hidden": true
   },
   "outputs": [],
   "source": [
    "curve = Curve2D(curvature=-3., curve_rel_start=0.6)\n",
    "x = np.linspace(0, 10, 50)\n",
    "y, dy = curve(x)\n",
    "x_sam = np.linspace(1, 10, 20)\n",
    "x_sam, y_sam = curve.sample(x_sam, stddev=0.4, seed=2)\n",
    "\n",
    "fig, ax = plt.subplots(1, 1)\n",
    "ax.plot(x, y)\n",
    "ax.plot(x_sam, y_sam, marker=\"o\", ls=\"-\")\n",
    "\n",
    "ax.set_xlim(0, 1.1 * max(np.amax(x_sam), np.amax(x)))\n",
    "ax.set_ylim(-5, 5)\n",
    "\n",
    "ax.set_xlabel(\"x\")\n",
    "ax.set_ylabel(\"y\")\n",
    "ax.plot(0, 0, marker=10, ms=10, ls=\"none\", c=\"k\")\n",
    "\n",
    "ax = rot_axis_90deg_cc(ax)\n",
    "ax.grid()\n",
    "ax.axvline(0, 0, 1, c=\"k\", lw=1, zorder=1)\n",
    "ax.set_axisbelow(True)\n",
    "\n",
    "plt.show()"
   ]
  },
  {
   "cell_type": "markdown",
   "metadata": {
    "heading_collapsed": true
   },
   "source": [
    "### Distance to polyline"
   ]
  },
  {
   "cell_type": "code",
   "execution_count": null,
   "metadata": {
    "hidden": true
   },
   "outputs": [],
   "source": [
    "pl = Polyline([[1, 3], [3, 5], [6, 2], [2, 2]])\n",
    "pts = [[1, 2], [1.5, 5.5], [3, 6], [3.5, 3.5], [5.5, 3.5], [4, 1], [2, 2.5]]\n",
    "proj_vecs, dists, proj_to = pl.get_dist_to_line(pts)\n",
    "pts = np.array(pts)"
   ]
  },
  {
   "cell_type": "code",
   "execution_count": null,
   "metadata": {
    "hidden": true
   },
   "outputs": [],
   "source": [
    "plt.plot(pl.xcoords, pl.ycoords, ls=\"-\", marker=\"o\", c=\"C0\")\n",
    "plt.plot(pts[:, 0], pts[:, 1], marker=\"x\", lw=4, c=\"k\", ls=\"none\")\n",
    "\n",
    "for pti, pvi in zip(pts, proj_vecs):\n",
    "    plt.arrow(pti[0], pti[1], pvi[0], pvi[1])\n",
    "    \n",
    "print(proj_to)\n",
    "print(dists)\n",
    "\n",
    "plt.xlim(0, None)\n",
    "plt.ylim(0, None)\n",
    "plt.gca().set_aspect(\"equal\")\n",
    "plt.show()"
   ]
  },
  {
   "cell_type": "markdown",
   "metadata": {
    "heading_collapsed": true
   },
   "source": [
    "### Project on eigenvector"
   ]
  },
  {
   "cell_type": "code",
   "execution_count": null,
   "metadata": {
    "hidden": true
   },
   "outputs": [],
   "source": [
    "curve = Curve2D(curvature=-4., curve_rel_start=0.3)\n",
    "x = np.linspace(0, 10, 50)\n",
    "y, dy = curve(x)\n",
    "x_sam = np.linspace(1, 10, 20)\n",
    "x_sam, y_sam = curve.sample(x_sam, stddev=0.4, seed=2)\n",
    "\n",
    "data = np.asarray([x_sam, y_sam])"
   ]
  },
  {
   "cell_type": "code",
   "execution_count": null,
   "metadata": {
    "hidden": true
   },
   "outputs": [],
   "source": [
    "fig, ax = plt.subplots(1, 1, figsize=(12, 6))\n",
    "\n",
    "# Truth and sampled points\n",
    "ax.plot(x, y)\n",
    "ax.plot(x_sam, y_sam, marker=\"o\", ls=\"-\")\n",
    "\n",
    "ax.set_xlim(0, 1.1 * max(np.amax(x_sam), np.amax(x)))\n",
    "ax.set_ylim(-5, 5)\n",
    "ax.set_xlabel(\"x\")\n",
    "ax.set_ylabel(\"y\")\n",
    "ax.plot(0, 0, marker=10, ms=10, ls=\"none\", c=\"k\")\n",
    "\n",
    "# Principal value line\n",
    "eigvec, _, _ = get_max_eigvec(data)\n",
    "mean = np.mean(data, axis=1)\n",
    "mx = np.r_[mean[0] - 10 * eigvec[0], mean[0] + 10 * eigvec[0]]\n",
    "my = np.r_[mean[1] - 10 * eigvec[1], mean[1] + 10 * eigvec[1]]\n",
    "ax.plot(mean[0], mean[1], ls=\"none\", marker=\"x\", ms=10, c=\"C3\", mew=3, zorder=1)\n",
    "ax.plot(mx, my, ls=\"--\", c=\"C3\", lw=2)\n",
    "\n",
    "# Projected points\n",
    "mean = np.mean(data, axis=1).reshape(2, 1)\n",
    "proj_vec, proj_len = proj_points(data - mean, eigvec)\n",
    "proj_vec += mean\n",
    "for proj, pt in zip(proj_vec.T, data.T):\n",
    "    dx = [proj[0], pt[0]]\n",
    "    dy = [proj[1], pt[1]]\n",
    "    ax.plot(dx, dy, lw=1, c=\"k\")\n",
    "\n",
    "# ax = rot_axis_90deg_cc(ax)\n",
    "ax.grid()\n",
    "ax.axvline(0, 0, 1, c=\"k\", lw=1, zorder=1)\n",
    "ax.axhline(0, 0, 1, c=\"k\", lw=1, zorder=1)\n",
    "ax.set_axisbelow(True)\n",
    "ax.set_aspect(\"equal\")\n",
    "\n",
    "plt.show()"
   ]
  }
 ],
 "metadata": {
  "kernelspec": {
   "display_name": "Python 3",
   "language": "python",
   "name": "python3"
  },
  "language_info": {
   "codemirror_mode": {
    "name": "ipython",
    "version": 3
   },
   "file_extension": ".py",
   "mimetype": "text/x-python",
   "name": "python",
   "nbconvert_exporter": "python",
   "pygments_lexer": "ipython3",
   "version": "3.8.1"
  }
 },
 "nbformat": 4,
 "nbformat_minor": 4
}
